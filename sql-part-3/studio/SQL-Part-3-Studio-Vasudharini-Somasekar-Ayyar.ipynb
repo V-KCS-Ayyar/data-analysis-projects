{
 "cells": [
  {
   "cell_type": "markdown",
   "metadata": {},
   "source": [
    "# SQL Part 3 Studio\n",
    "\n",
    "Let's practice your SQL querying skills! For each question, work along in the notebook, adding your query and answering the questions.\n",
    "\n",
    "## The Dataset\n",
    "\n",
    "We will be using the Goodbooks-10k dataset from the exercises in the prep work. Feel free reference your previous notebooks.\n",
    "\n",
    "1. The dataset can be found here: [goodbooks-10k](https://www.kaggle.com/zygmunt/goodbooks-10k)\n",
    "1. You can access `BooksDB` in the LaunchCode server.\n",
    "\n",
    "## Business Issue\n",
    "\n",
    "You are an employee at a small independent bookstore and you have been tasked with increasing sales.  You decide to use `BooksDB` to find books and themes to highlight in fun promotions throughout each month and/or season.  We will be starting with March and then you will have a chance to explore another month of your choosing.  We want to come up with a list of promotions to run each month.  If you are looking for ideas, here are some resources on different holidays:\n",
    "\n",
    "- [https://www.calendarr.com/united-states/calendar-2022/](https://www.calendarr.com/united-states/calendar-2022/)\n",
    "- [https://www.holidayinsights.com/moreholidays/](https://www.holidayinsights.com/moreholidays/)\n",
    "    - Click on a month and it will take you to a more detailed page"
   ]
  },
  {
   "cell_type": "markdown",
   "metadata": {},
   "source": [
    "## Part 1:  March - Women's History Month, National Pie Day (3/14), St. Patrick's Day (3/17), Season - Spring"
   ]
  },
  {
   "cell_type": "markdown",
   "metadata": {},
   "source": [
    "### Event 1: Women's History Month\n",
    "\n",
    "Highlight popular women writers based on ratings from `BooksDB` by writing a query that returns `tag_id`, the number of times each `tag_id` is used and the `tag_name`. Use the `GROUP BY` and `HAVING` clause to narrow your focus and try multiple keywords, such as \"woman\" and \"female\"."
   ]
  },
  {
   "cell_type": "code",
   "execution_count": null,
   "metadata": {
    "vscode": {
     "languageId": "sql"
    }
   },
   "outputs": [],
   "source": [
    "-- Solution\n",
    "\n",
    "SELECT TOP 10 t.tag_name, bt.tag_id, SUM(bt.count) AS total, b.authors\n",
    "FROM BooksDB.dbo.book_tags AS bt\n",
    "INNER JOIN BooksDB.dbo.tags AS t \n",
    "ON bt.tag_id = t.tag_id\n",
    "LEFT JOIN BooksDB.dbo.books AS b  \n",
    "ON bt.goodreads_book_id = b.book_id \n",
    "GROUP BY t.tag_name, bt.tag_id, b.authors\n",
    "HAVING t.tag_name LIKE '%female%'\n",
    "ORDER BY total DESC\n"
   ]
  },
  {
   "cell_type": "markdown",
   "metadata": {},
   "source": [
    "### Event 2: Choose another event from March/Spring\n",
    "\n",
    "Write a query to return authors, titles, ratings, and `tag_id` that you would want to promote during your chosen event."
   ]
  },
  {
   "cell_type": "code",
   "execution_count": null,
   "metadata": {
    "vscode": {
     "languageId": "sql"
    }
   },
   "outputs": [],
   "source": [
    "-- Solution\n",
    "\n",
    "SELECT TOP 10 t.tag_name, bt.tag_id, SUM(bt.count) AS total, b.title\n",
    "FROM BooksDB.dbo.book_tags AS bt\n",
    "INNER JOIN BooksDB.dbo.tags AS t \n",
    "ON bt.tag_id = t.tag_id\n",
    "LEFT JOIN BooksDB.dbo.books AS b  \n",
    "ON bt.goodreads_book_id = b.book_id \n",
    "GROUP BY t.tag_name, bt.tag_id, b.title\n",
    "HAVING t.tag_name LIKE '%spring'\n",
    "ORDER BY total DESC"
   ]
  },
  {
   "cell_type": "markdown",
   "metadata": {},
   "source": [
    "Record your thoughts about why you wrote the query the way you did."
   ]
  },
  {
   "cell_type": "markdown",
   "metadata": {},
   "source": [
    "# Part 2: Choose Another Month\n",
    "\n",
    "Choose another month and plan at least 2 events / promotions and answer the following questions:\n",
    "1. Which month did you choose?\n",
    "1. What 2 events / promotions are you highlighting?\n",
    "\n",
    "1.I choose the month of October\n",
    "\n",
    "Event 1:\n",
    "\n",
    "Event: Cookbook Launch Day\n",
    "\n",
    " \"Fall into a Good Book\" theme. Promotion around all things culinary.\n",
    "\n",
    "Promotion: \"Fall Flavors: Celebrate Cookbook Launch Day with a new recipe book!\"\n",
    "\n",
    "Event 2:Event: Frankenstein Friday & Spooky Reads\n",
    "\n",
    "Instead of just a general Halloween theme, we can have a special focus on Frankenstein Friday! We can build a display around Mary Shelley's classic and other gothic horror novels.\n",
    "\n",
    "Promotion: \"Get Your Frankenstein On! 20% off all classic horror novels.\"\n"
   ]
  },
  {
   "cell_type": "markdown",
   "metadata": {},
   "source": [
    "# Part 3: Summarize your Work\n",
    "\n",
    "For each event write at least one query that joins any two tables in `BooksDB` to support your choice and record you thoughts as to why you used the paticlular query. At least one of your queries needs to include a `HAVING` clause."
   ]
  },
  {
   "cell_type": "code",
   "execution_count": null,
   "metadata": {
    "vscode": {
     "languageId": "sql"
    }
   },
   "outputs": [],
   "source": [
    "-- Event 1 Query\n",
    "\n",
    "SELECT TOP 10\n",
    "    b.title,\n",
    "    b.authors,\n",
    "    SUM(bt.count) AS popularity_score\n",
    "FROM  BooksDB.dbo.books AS b\n",
    "JOIN  BooksDB.dbo.book_tags AS bt ON b.book_id = bt.goodreads_book_id\n",
    "WHERE  bt.tag_id IN (SELECT tag_id FROM BooksDB.dbo.tags WHERE tag_name IN ('cookbooks', 'food', 'cooking'))\n",
    "GROUP BY  b.title, b.authors\n",
    "ORDER BY  popularity_score DESC;"
   ]
  },
  {
   "cell_type": "markdown",
   "metadata": {},
   "source": [
    "### Summarize Event 1\n",
    "\n",
    "Double-click to edit.\n",
    "\n",
    "I joined books and book_tags to link book titles to their tag usage data.\n",
    "\n",
    "Instead of joining the tags table directly, I used a subquery (SELECT tag_id FROM ...) in the WHERE clause. This is an way to filter the book_tags table for only the tags we care about ('cookbooks', 'food', 'cooking').\n",
    "\n",
    "I used SUM(bt.count) to create a popularity_score. The count column in book_tags indicates how many users applied a specific tag to a book. Summing this count across relevant tags gives a strong indicator of a book's popularity within the culinary genre.\n",
    "\n",
    "ORDER BY popularity_score DESC sorts the list to show the most popular books at the top, which are perfect candidates for a promotional display."
   ]
  },
  {
   "cell_type": "code",
   "execution_count": null,
   "metadata": {
    "vscode": {
     "languageId": "sql"
    }
   },
   "outputs": [],
   "source": [
    "-- Event 2 Query\n",
    "\n",
    "SELECT TOP 10\n",
    "    b.title,\n",
    "    b.authors,\n",
    "    b.average_rating\n",
    "FROM  BooksDB.dbo.books AS b\n",
    "JOIN  BooksDB.dbo.book_tags AS bt ON b.book_id = bt.goodreads_book_id\n",
    "JOIN  BooksDB.dbo.tags AS t ON bt.tag_id = t.tag_id\n",
    "WHERE  t.tag_name IN ('classics', 'horror', 'gothic', 'frankenstein')\n",
    "GROUP BY  b.title, b.authors, b.average_rating\n",
    "HAVING  COUNT(t.tag_name) > 1\n",
    "ORDER BY  b.average_rating DESC;"
   ]
  },
  {
   "cell_type": "markdown",
   "metadata": {},
   "source": [
    "### Summarize Event 2\n",
    "\n",
    "Double-click to edit.\n",
    "I joined books with book_tags and tags to connect book details (like title and rating) with their descriptive tags.\n",
    "\n",
    "The WHERE clause initially filters for any book tagged with at least one of the relevant keywords ('classics', 'horror', 'gothic').\n",
    "\n",
    "The HAVING COUNT(t.tag_name) > 1 clause is the key part. It further refines the results to only include books that have more than one of these tags. This ensures a book like Frankenstein (tagged as 'classics', 'horror', and 'gothic') will rank highly, while a book that is only tagged as 'horror' might not appear. This gives us a highly curated list for the promotion.\n",
    "\n",
    "Finally, ORDER BY average_rating DESC ensures we highlight the best-rated books first."
   ]
  }
 ],
 "metadata": {
  "language_info": {
   "name": "python"
  }
 },
 "nbformat": 4,
 "nbformat_minor": 2
}
